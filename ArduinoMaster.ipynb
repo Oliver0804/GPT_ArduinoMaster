{
 "cells": [
  {
   "cell_type": "code",
   "execution_count": 1,
   "id": "da231030",
   "metadata": {},
   "outputs": [],
   "source": [
    "import re\n",
    "import json\n",
    "import argparse\n",
    "import openai\n",
    "import configparser\n",
    "import os\n"
   ]
  },
  {
   "cell_type": "code",
   "execution_count": 38,
   "id": "e6dc602c",
   "metadata": {},
   "outputs": [],
   "source": [
    "\n",
    "def get_config_apikey(cfg_file):\n",
    "    config = configparser.ConfigParser()\n",
    "    config.read(cfg_file)\n",
    "    api_key = config.get('Config', 'openai-apikey', fallback=None)\n",
    "    return api_key\n",
    "\n",
    "def get_config_code(cfg_file):\n",
    "    config = configparser.ConfigParser()\n",
    "    config.read(cfg_file)\n",
    "    code = config.get('Config', 'code_language', fallback=None)\n",
    "    return code\n",
    "\n",
    "def get_config_prompt(cfg_file):\n",
    "    config = configparser.ConfigParser()\n",
    "    config.read(cfg_file)\n",
    "    prompt = config.get('Config', 'codeMaster_prompt', fallback=None)\n",
    "    return prompt\n",
    "\n",
    "api_key = get_config_apikey('./.cfg')\n",
    "master_prompt = get_config_prompt('./.cfg')\n",
    "openai.api_key = api_key\n",
    "\n",
    "def find_segments_c(text):\n",
    "    segments = []\n",
    "    stack = []\n",
    "    start = 0\n",
    "    for i, char in enumerate(text):\n",
    "        if char == '{':\n",
    "            if i > start:\n",
    "                # save the code segment before this {\n",
    "                segments.append(text[start:i].strip())\n",
    "            stack.append(i)\n",
    "            start = i\n",
    "        elif char == '}':\n",
    "            stack.pop()\n",
    "            if not stack:\n",
    "                # save this function\n",
    "                segments.append(text[start:i+1].strip())\n",
    "                start = i+1\n",
    "    # save the last code segment\n",
    "    if start < len(text):\n",
    "        segments.append(text[start:].strip())\n",
    "    return segments\n",
    "\n",
    "def print_json(filename):\n",
    "    with open(filename, 'r') as file:\n",
    "        data = json.load(file)\n",
    "    for segment in data:\n",
    "        print(segment)\n",
    "        print()\n",
    "\n",
    "\n",
    "\n",
    "    \n",
    "def askGpt(*args):\n",
    "    prompt = ' '.join(args)\n",
    "    response = openai.Completion.create(\n",
    "        model=\"text-davinci-003\",\n",
    "        prompt=master_prompt+prompt,\n",
    "        temperature=0,\n",
    "        max_tokens=64,\n",
    "        top_p=1.0,\n",
    "        frequency_penalty=0.0,\n",
    "        presence_penalty=0.0,\n",
    "        stop=[\"\\\"\\\"\\\"\"]\n",
    "    )\n",
    "    generated_text = response['choices'][0]['text'].strip()\n",
    "    print(generated_text)\n",
    "    return generated_text\n",
    "\n",
    "\n",
    "\n"
   ]
  },
  {
   "cell_type": "code",
   "execution_count": 39,
   "id": "d7eef85f",
   "metadata": {},
   "outputs": [],
   "source": [
    "def process_file(input_file):\n",
    "    output_filename = 'codingMaster_' + input_file\n",
    "\n",
    "    with open(input_file, 'r') as infile, open(output_filename, 'w') as outfile:\n",
    "        for line in infile:\n",
    "            stripped_line = line.strip()\n",
    "            if stripped_line == \"\":  # 如果是空白行，則跳過此次迴圈\n",
    "                outfile.write('\\n')  # 寫入空行\n",
    "                continue\n",
    "            if '//' in stripped_line or '{' in stripped_line or '}' in stripped_line:  # 如果該行已經包含 \"//\"、\"{\" 或 \"}\"\n",
    "                outfile.write(stripped_line + '\\n')  # 寫入原始行\n",
    "                continue\n",
    "            print(stripped_line)\n",
    "            processed_line = askGpt(stripped_line)  # 對每一行調用 askGpt 函數\n",
    "            #processed_line = \"註解\"\n",
    "            outfile.write(stripped_line + ' //' + processed_line + '\\n')  # 將處理後的結果追加到該行並寫入新檔案\n",
    "\n",
    "    print(f'Processed file has been saved to: {output_filename}')\n",
    "\n"
   ]
  },
  {
   "cell_type": "code",
   "execution_count": 26,
   "id": "fa4eab6f",
   "metadata": {},
   "outputs": [
    {
     "name": "stdout",
     "output_type": "stream",
     "text": [
      "#C語言標頭檔\n"
     ]
    },
    {
     "data": {
      "text/plain": [
       "'#C語言標頭檔'"
      ]
     },
     "execution_count": 26,
     "metadata": {},
     "output_type": "execute_result"
    }
   ],
   "source": [
    " askGpt(\"這是什麼，請以最短的字數幫我做標注\",\"#include <stdint.h>\")"
   ]
  },
  {
   "cell_type": "code",
   "execution_count": 40,
   "id": "4b9b0338",
   "metadata": {},
   "outputs": [
    {
     "name": "stdout",
     "output_type": "stream",
     "text": [
      "#include <stdint.h>\n",
      "C語言標頭檔\n",
      "#include <stdio.h>\n",
      "C語言標頭檔\n",
      "#include <stdlib.h>\n",
      "C語言標頭檔\n",
      "#include <avr/io.h>\n",
      "AVR C語言函式庫\n",
      "#include <avr/interrupt.h>\n",
      "AVR中斷函式庫\n",
      "#include <util/delay.h>\n",
      "延遲函數庫\n",
      "#define SET_BIT(reg, pin)\t\t    (reg) |= (1 << (pin))\n",
      "設定位元（reg, pin）\n",
      "#define CLEAR_BIT(reg, pin)\t\t  (reg) &= ~(1 << (pin))\n",
      "\n",
      "void setup(void);\n",
      "設定函數\n",
      "void process(void);\n",
      "函數定義\n",
      "TCCR1A = 0;\n",
      "TCCR1A：定時器/計數器控制寄存器1A，值為0。\n",
      "CLEAR_BIT(TCCR1B,WGM12);\n",
      "設定TCCR1B的WGM12位為0\n",
      "CLEAR_BIT(TCCR1B,WGM13);\n",
      "設定TCCR1B的WGM13位為0\n",
      "SET_BIT(TCCR1B,CS12);\n",
      "設定TCCR1B的CS12位為1\n",
      "CLEAR_BIT(TCCR1B,CS11);\n",
      "清除TCCR1B的CS11位\n",
      "SET_BIT(TCCR1B,CS10);\n",
      "設定TCCR1B的CS10位為1\n",
      "SET_BIT(TIMSK1, TOIE1);\n",
      "定義TIMSK1中TOIE1位為1\n",
      "SET_BIT(DDRB, 5);\n",
      "設定PB5為輸出\n",
      "sei();\n",
      "未知物。\n",
      "volatile int overflow_counter = 0;\n",
      "變數: overflow_counter, 數值: 0, 資料型態: volatile int\n",
      "overflow_counter ++;\n",
      "計數器增加1。\n",
      "SET_BIT(PORTB, 5);\n",
      "設定PORTB的第5位為1\n",
      "setup();\n",
      "設定程序。\n",
      "process();\n",
      "函數\n",
      "_delay_ms(1000);\n",
      "時間延遲。\n",
      "Processed file has been saved to: codingMaster_arduino.ino\n"
     ]
    }
   ],
   "source": [
    "input_file = 'arduino.ino'  \n",
    "process_file(input_file)\n"
   ]
  },
  {
   "cell_type": "code",
   "execution_count": null,
   "id": "d4e0618b",
   "metadata": {},
   "outputs": [],
   "source": []
  }
 ],
 "metadata": {
  "kernelspec": {
   "display_name": "Python 3 (ipykernel)",
   "language": "python",
   "name": "python3"
  },
  "language_info": {
   "codemirror_mode": {
    "name": "ipython",
    "version": 3
   },
   "file_extension": ".py",
   "mimetype": "text/x-python",
   "name": "python",
   "nbconvert_exporter": "python",
   "pygments_lexer": "ipython3",
   "version": "3.11.3"
  }
 },
 "nbformat": 4,
 "nbformat_minor": 5
}
